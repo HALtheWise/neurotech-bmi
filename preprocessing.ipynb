{
 "cells": [
  {
   "cell_type": "markdown",
   "metadata": {},
   "source": [
    "# Preprocessing\n",
    "\n",
    "This notebook contains code to read in data from the Muse and break it into labelled chunks."
   ]
  },
  {
   "cell_type": "code",
   "execution_count": 1,
   "metadata": {},
   "outputs": [],
   "source": [
    "import numpy as np\n",
    "import matplotlib.pyplot as plt\n",
    "import pandas as pd\n",
    "import os\n",
    "import scipy.io"
   ]
  },
  {
   "cell_type": "code",
   "execution_count": 2,
   "metadata": {},
   "outputs": [],
   "source": [
    "%matplotlib inline"
   ]
  },
  {
   "cell_type": "markdown",
   "metadata": {},
   "source": [
    "## Importing data"
   ]
  },
  {
   "cell_type": "code",
   "execution_count": 3,
   "metadata": {},
   "outputs": [],
   "source": [
    "# def loadData(filename='...')\n",
    "filename = 'data/subj1-run1b.mat'\n",
    "# alldata = pd.read_csv(\"...\")"
   ]
  },
  {
   "cell_type": "code",
   "execution_count": 4,
   "metadata": {},
   "outputs": [
    {
     "data": {
      "text/plain": [
       "['mytraindata', '__version__', '__header__', '__globals__']"
      ]
     },
     "execution_count": 4,
     "metadata": {},
     "output_type": "execute_result"
    }
   ],
   "source": [
    "data = scipy.io.loadmat(filename)\n",
    "data.keys()"
   ]
  },
  {
   "cell_type": "code",
   "execution_count": 5,
   "metadata": {},
   "outputs": [],
   "source": [
    "braindata = data['mytraindata']"
   ]
  },
  {
   "cell_type": "code",
   "execution_count": 6,
   "metadata": {},
   "outputs": [],
   "source": [
    "s = braindata[0,0]"
   ]
  },
  {
   "cell_type": "code",
   "execution_count": 7,
   "metadata": {},
   "outputs": [
    {
     "data": {
      "text/plain": [
       "dtype([('setname', 'O'), ('filename', 'O'), ('filepath', 'O'), ('subject', 'O'), ('group', 'O'), ('condition', 'O'), ('session', 'O'), ('comments', 'O'), ('nbchan', 'O'), ('trials', 'O'), ('pnts', 'O'), ('srate', 'O'), ('xmin', 'O'), ('xmax', 'O'), ('times', 'O'), ('data', 'O'), ('icaact', 'O'), ('icawinv', 'O'), ('icasphere', 'O'), ('icaweights', 'O'), ('icachansind', 'O'), ('chanlocs', 'O'), ('urchanlocs', 'O'), ('chaninfo', 'O'), ('ref', 'O'), ('event', 'O'), ('urevent', 'O'), ('eventdescription', 'O'), ('epoch', 'O'), ('epochdescription', 'O'), ('reject', 'O'), ('stats', 'O'), ('specdata', 'O'), ('specicaact', 'O'), ('splinefile', 'O'), ('icasplinefile', 'O'), ('dipfit', 'O'), ('history', 'O'), ('saved', 'O'), ('etc', 'O'), ('stamps', 'O')])"
      ]
     },
     "execution_count": 7,
     "metadata": {},
     "output_type": "execute_result"
    }
   ],
   "source": [
    "s.dtype"
   ]
  },
  {
   "cell_type": "code",
   "execution_count": 8,
   "metadata": {},
   "outputs": [
    {
     "data": {
      "text/plain": [
       "array([[220]], dtype=uint8)"
      ]
     },
     "execution_count": 8,
     "metadata": {},
     "output_type": "execute_result"
    }
   ],
   "source": [
    "s['srate']"
   ]
  },
  {
   "cell_type": "code",
   "execution_count": 9,
   "metadata": {},
   "outputs": [
    {
     "name": "stdout",
     "output_type": "stream",
     "text": [
      "[u'TP9', u'FP1', u'FP2', u'TP10', u'n/a', u'n/a']\n"
     ]
    }
   ],
   "source": [
    "labels = [x[0] for x in s['chanlocs']['labels'][0]]\n",
    "print labels"
   ]
  },
  {
   "cell_type": "code",
   "execution_count": 10,
   "metadata": {},
   "outputs": [
    {
     "name": "stdout",
     "output_type": "stream",
     "text": [
      "[u'C:\\\\Users\\\\gsteelman\\\\Desktop\\\\Neurotech']\n",
      "[[478880]]\n",
      "[[([u'100'], [[2442]], [[1]]) ([u'100'], [[2446.000632762909]], [[1]])\n",
      "  ([u'149'], [[23617.305362850428]], [[1]])\n",
      "  ([u'12'], [[42981.47397580743]], [[1]])\n",
      "  ([u'151'], [[55614.90879303217]], [[1]])\n",
      "  ([u'12'], [[75949.85739275813]], [[1]])\n",
      "  ([u'149'], [[89237.90749371052]], [[1]])\n",
      "  ([u'12'], [[108918.29084154963]], [[1]])\n",
      "  ([u'151'], [[122597.24566075206]], [[1]])\n",
      "  ([u'151'], [[141928.8902581334]], [[1]])\n",
      "  ([u'149'], [[155239.61553436518]], [[1]])\n",
      "  ([u'12'], [[174943.11836385727]], [[1]])\n",
      "  ([u'151'], [[188144.30569067597]], [[1]])\n",
      "  ([u'12'], [[207890.99412560463]], [[1]])\n",
      "  ([u'149'], [[221326.23233005404]], [[1]])\n",
      "  ([u'12'], [[240961.71688118577]], [[1]])\n",
      "  ([u'151'], [[254127.76232475042]], [[1]])\n",
      "  ([u'12'], [[272641.0989597142]], [[1]])\n",
      "  ([u'149'], [[287343.68319153786]], [[1]])\n",
      "  ([u'12'], [[305449.58812204003]], [[1]])\n",
      "  ([u'149'], [[320153.3358784616]], [[1]])\n",
      "  ([u'12'], [[337274.58083975315]], [[1]])\n",
      "  ([u'151'], [[353253.180221498]], [[1]])\n",
      "  ([u'12'], [[372964.0698992014]], [[1]])\n",
      "  ([u'149'], [[386161.5729125142]], [[1]])\n",
      "  ([u'12'], [[405919.41710293293]], [[1]])\n",
      "  ([u'151'], [[418665.7887607813]], [[1]])\n",
      "  ([u'12'], [[438943.47345271707]], [[1]])\n",
      "  ([u'149'], [[452219.2773639262]], [[1]])\n",
      "  ([u'12'], [[471921.3456437588]], [[1]])\n",
      "  ([u'0'], [[478185.70462682843]], [[1]])\n",
      "  ([u'200'], [[478253.53588455915]], [[1]])]]\n"
     ]
    }
   ],
   "source": [
    "print s['filepath']\n",
    "print s['pnts']\n",
    "print s['event']"
   ]
  },
  {
   "cell_type": "code",
   "execution_count": 11,
   "metadata": {},
   "outputs": [
    {
     "name": "stdout",
     "output_type": "stream",
     "text": [
      "100 2442\n",
      "100 2446.00063276\n",
      "149 23617.3053629\n",
      "12 42981.4739758\n",
      "151 55614.908793\n",
      "12 75949.8573928\n",
      "149 89237.9074937\n",
      "12 108918.290842\n",
      "151 122597.245661\n",
      "151 141928.890258\n",
      "149 155239.615534\n",
      "12 174943.118364\n",
      "151 188144.305691\n",
      "12 207890.994126\n",
      "149 221326.23233\n",
      "12 240961.716881\n",
      "151 254127.762325\n",
      "12 272641.09896\n",
      "149 287343.683192\n",
      "12 305449.588122\n",
      "149 320153.335878\n",
      "12 337274.58084\n",
      "151 353253.180221\n",
      "12 372964.069899\n",
      "149 386161.572913\n",
      "12 405919.417103\n",
      "151 418665.788761\n",
      "12 438943.473453\n",
      "149 452219.277364\n",
      "12 471921.345644\n",
      "0 478185.704627\n",
      "200 478253.535885\n"
     ]
    }
   ],
   "source": [
    "for typ, time, _ in s['event'][0]:\n",
    "    typ = typ[0]\n",
    "    time = time[0,0]\n",
    "    print typ, time"
   ]
  },
  {
   "cell_type": "code",
   "execution_count": 12,
   "metadata": {},
   "outputs": [
    {
     "data": {
      "text/plain": [
       "<matplotlib.legend.Legend at 0x7fccd0d7c210>"
      ]
     },
     "execution_count": 12,
     "metadata": {},
     "output_type": "execute_result"
    },
    {
     "data": {
      "image/png": "[encoded data removed]",
      "text/plain": [
       "<matplotlib.figure.Figure at 0x7fccd0d7c090>"
      ]
     },
     "metadata": {},
     "output_type": "display_data"
    }
   ],
   "source": [
    "plt.plot(np.transpose(s['data'])[1:10000:10,:])\n",
    "plt.legend(labels)"
   ]
  },
  {
   "cell_type": "code",
   "execution_count": 13,
   "metadata": {},
   "outputs": [
    {
     "data": {
      "text/plain": [
       "array([[array([u'TP9'], \n",
       "      dtype='<U3'),\n",
       "        array([u'FP1'], \n",
       "      dtype='<U3'),\n",
       "        array([u'FP2'], \n",
       "      dtype='<U3'),\n",
       "        array([u'TP10'], \n",
       "      dtype='<U4'),\n",
       "        array([u'n/a'], \n",
       "      dtype='<U3'),\n",
       "        array([u'n/a'], \n",
       "      dtype='<U3')]], dtype=object)"
      ]
     },
     "execution_count": 13,
     "metadata": {},
     "output_type": "execute_result"
    }
   ],
   "source": [
    "s['chanlocs']['labels']"
   ]
  },
  {
   "cell_type": "code",
   "execution_count": 14,
   "metadata": {},
   "outputs": [],
   "source": [
    "df = pd.DataFrame(np.transpose(s['data']), columns=labels,)"
   ]
  },
  {
   "cell_type": "code",
   "execution_count": 15,
   "metadata": {
    "scrolled": true
   },
   "outputs": [
    {
     "data": {
      "text/html": [
       "<div>\n",
       "<style>\n",
       "    .dataframe thead tr:only-child th {\n",
       "        text-align: right;\n",
       "    }\n",
       "\n",
       "    .dataframe thead th {\n",
       "        text-align: left;\n",
       "    }\n",
       "\n",
       "    .dataframe tbody tr th {\n",
       "        vertical-align: top;\n",
       "    }\n",
       "</style>\n",
       "<table border=\"1\" class=\"dataframe\">\n",
       "  <thead>\n",
       "    <tr style=\"text-align: right;\">\n",
       "      <th></th>\n",
       "      <th>TP9</th>\n",
       "      <th>FP1</th>\n",
       "      <th>FP2</th>\n",
       "      <th>TP10</th>\n",
       "      <th>n/a</th>\n",
       "      <th>n/a</th>\n",
       "    </tr>\n",
       "  </thead>\n",
       "  <tbody>\n",
       "    <tr>\n",
       "      <th>478875</th>\n",
       "      <td>379.990448</td>\n",
       "      <td>583.968018</td>\n",
       "      <td>807.685364</td>\n",
       "      <td>440.854736</td>\n",
       "      <td>3.129684e-37</td>\n",
       "      <td>1.618617e+19</td>\n",
       "    </tr>\n",
       "    <tr>\n",
       "      <th>478876</th>\n",
       "      <td>379.990448</td>\n",
       "      <td>478.689270</td>\n",
       "      <td>597.127869</td>\n",
       "      <td>388.215363</td>\n",
       "      <td>3.129684e-37</td>\n",
       "      <td>1.618617e+19</td>\n",
       "    </tr>\n",
       "    <tr>\n",
       "      <th>478877</th>\n",
       "      <td>485.269196</td>\n",
       "      <td>689.246765</td>\n",
       "      <td>755.045959</td>\n",
       "      <td>493.494110</td>\n",
       "      <td>3.129684e-37</td>\n",
       "      <td>1.618617e+19</td>\n",
       "    </tr>\n",
       "    <tr>\n",
       "      <th>478878</th>\n",
       "      <td>379.990448</td>\n",
       "      <td>689.246765</td>\n",
       "      <td>755.045959</td>\n",
       "      <td>440.854736</td>\n",
       "      <td>3.129684e-37</td>\n",
       "      <td>1.618617e+19</td>\n",
       "    </tr>\n",
       "    <tr>\n",
       "      <th>478879</th>\n",
       "      <td>485.269196</td>\n",
       "      <td>689.246765</td>\n",
       "      <td>860.324707</td>\n",
       "      <td>598.772827</td>\n",
       "      <td>3.129684e-37</td>\n",
       "      <td>1.618617e+19</td>\n",
       "    </tr>\n",
       "  </tbody>\n",
       "</table>\n",
       "</div>"
      ],
      "text/plain": [
       "               TP9         FP1         FP2        TP10           n/a  \\\n",
       "478875  379.990448  583.968018  807.685364  440.854736  3.129684e-37   \n",
       "478876  379.990448  478.689270  597.127869  388.215363  3.129684e-37   \n",
       "478877  485.269196  689.246765  755.045959  493.494110  3.129684e-37   \n",
       "478878  379.990448  689.246765  755.045959  440.854736  3.129684e-37   \n",
       "478879  485.269196  689.246765  860.324707  598.772827  3.129684e-37   \n",
       "\n",
       "                 n/a  \n",
       "478875  1.618617e+19  \n",
       "478876  1.618617e+19  \n",
       "478877  1.618617e+19  \n",
       "478878  1.618617e+19  \n",
       "478879  1.618617e+19  "
      ]
     },
     "execution_count": 15,
     "metadata": {},
     "output_type": "execute_result"
    }
   ],
   "source": [
    "df.tail()"
   ]
  },
  {
   "cell_type": "code",
   "execution_count": null,
   "metadata": {},
   "outputs": [],
   "source": []
  }
 ],
 "metadata": {
  "kernelspec": {
   "display_name": "Python 2",
   "language": "python",
   "name": "python2"
  },
  "language_info": {
   "codemirror_mode": {
    "name": "ipython",
    "version": 2
   },
   "file_extension": ".py",
   "mimetype": "text/x-python",
   "name": "python",
   "nbconvert_exporter": "python",
   "pygments_lexer": "ipython2",
   "version": "2.7.12"
  }
 },
 "nbformat": 4,
 "nbformat_minor": 2
}
