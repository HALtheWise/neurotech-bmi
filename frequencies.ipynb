{
 "cells": [
  {
   "cell_type": "markdown",
   "metadata": {},
   "source": [
    "# Frequencies\n",
    "This file contains code for breaking the brain data into frequency components"
   ]
  },
  {
   "cell_type": "code",
   "execution_count": 60,
   "metadata": {
    "collapsed": false
   },
   "outputs": [
    {
     "name": "stdout",
     "output_type": "stream",
     "text": [
      "[u'TP9', u'FP1', u'FP2', u'TP10', u'n/a', u'n/a']\n",
      "[u'C:\\\\Users\\\\gsteelman\\\\Desktop\\\\Neurotech']\n",
      "[[478880]]\n",
      "[[ (array([u'100'],\n",
      "      dtype='<U3'), array([[2442]], dtype=uint16), array([[1]], dtype=uint8))\n",
      "  (array([u'100'],\n",
      "      dtype='<U3'), array([[ 2446.00063276]]), array([[1]], dtype=uint8))\n",
      "  (array([u'149'],\n",
      "      dtype='<U3'), array([[ 23617.30536285]]), array([[1]], dtype=uint8))\n",
      "  (array([u'12'],\n",
      "      dtype='<U2'), array([[ 42981.47397581]]), array([[1]], dtype=uint8))\n",
      "  (array([u'151'],\n",
      "      dtype='<U3'), array([[ 55614.90879303]]), array([[1]], dtype=uint8))\n",
      "  (array([u'12'],\n",
      "      dtype='<U2'), array([[ 75949.85739276]]), array([[1]], dtype=uint8))\n",
      "  (array([u'149'],\n",
      "      dtype='<U3'), array([[ 89237.90749371]]), array([[1]], dtype=uint8))\n",
      "  (array([u'12'],\n",
      "      dtype='<U2'), array([[ 108918.29084155]]), array([[1]], dtype=uint8))\n",
      "  (array([u'151'],\n",
      "      dtype='<U3'), array([[ 122597.24566075]]), array([[1]], dtype=uint8))\n",
      "  (array([u'151'],\n",
      "      dtype='<U3'), array([[ 141928.89025813]]), array([[1]], dtype=uint8))\n",
      "  (array([u'149'],\n",
      "      dtype='<U3'), array([[ 155239.61553437]]), array([[1]], dtype=uint8))\n",
      "  (array([u'12'],\n",
      "      dtype='<U2'), array([[ 174943.11836386]]), array([[1]], dtype=uint8))\n",
      "  (array([u'151'],\n",
      "      dtype='<U3'), array([[ 188144.30569068]]), array([[1]], dtype=uint8))\n",
      "  (array([u'12'],\n",
      "      dtype='<U2'), array([[ 207890.9941256]]), array([[1]], dtype=uint8))\n",
      "  (array([u'149'],\n",
      "      dtype='<U3'), array([[ 221326.23233005]]), array([[1]], dtype=uint8))\n",
      "  (array([u'12'],\n",
      "      dtype='<U2'), array([[ 240961.71688119]]), array([[1]], dtype=uint8))\n",
      "  (array([u'151'],\n",
      "      dtype='<U3'), array([[ 254127.76232475]]), array([[1]], dtype=uint8))\n",
      "  (array([u'12'],\n",
      "      dtype='<U2'), array([[ 272641.09895971]]), array([[1]], dtype=uint8))\n",
      "  (array([u'149'],\n",
      "      dtype='<U3'), array([[ 287343.68319154]]), array([[1]], dtype=uint8))\n",
      "  (array([u'12'],\n",
      "      dtype='<U2'), array([[ 305449.58812204]]), array([[1]], dtype=uint8))\n",
      "  (array([u'149'],\n",
      "      dtype='<U3'), array([[ 320153.33587846]]), array([[1]], dtype=uint8))\n",
      "  (array([u'12'],\n",
      "      dtype='<U2'), array([[ 337274.58083975]]), array([[1]], dtype=uint8))\n",
      "  (array([u'151'],\n",
      "      dtype='<U3'), array([[ 353253.1802215]]), array([[1]], dtype=uint8))\n",
      "  (array([u'12'],\n",
      "      dtype='<U2'), array([[ 372964.0698992]]), array([[1]], dtype=uint8))\n",
      "  (array([u'149'],\n",
      "      dtype='<U3'), array([[ 386161.57291251]]), array([[1]], dtype=uint8))\n",
      "  (array([u'12'],\n",
      "      dtype='<U2'), array([[ 405919.41710293]]), array([[1]], dtype=uint8))\n",
      "  (array([u'151'],\n",
      "      dtype='<U3'), array([[ 418665.78876078]]), array([[1]], dtype=uint8))\n",
      "  (array([u'12'],\n",
      "      dtype='<U2'), array([[ 438943.47345272]]), array([[1]], dtype=uint8))\n",
      "  (array([u'149'],\n",
      "      dtype='<U3'), array([[ 452219.27736393]]), array([[1]], dtype=uint8))\n",
      "  (array([u'12'],\n",
      "      dtype='<U2'), array([[ 471921.34564376]]), array([[1]], dtype=uint8))\n",
      "  (array([u'0'],\n",
      "      dtype='<U1'), array([[ 478185.70462683]]), array([[1]], dtype=uint8))\n",
      "  (array([u'200'],\n",
      "      dtype='<U3'), array([[ 478253.53588456]]), array([[1]], dtype=uint8))]]\n",
      "100 2442\n",
      "100 2446.00063276\n",
      "149 23617.3053629\n",
      "12 42981.4739758\n",
      "151 55614.908793\n",
      "12 75949.8573928\n",
      "149 89237.9074937\n",
      "12 108918.290842\n",
      "151 122597.245661\n",
      "151 141928.890258\n",
      "149 155239.615534\n",
      "12 174943.118364\n",
      "151 188144.305691\n",
      "12 207890.994126\n",
      "149 221326.23233\n",
      "12 240961.716881\n",
      "151 254127.762325\n",
      "12 272641.09896\n",
      "149 287343.683192\n",
      "12 305449.588122\n",
      "149 320153.335878\n",
      "12 337274.58084\n",
      "151 353253.180221\n",
      "12 372964.069899\n",
      "149 386161.572913\n",
      "12 405919.417103\n",
      "151 418665.788761\n",
      "12 438943.473453\n",
      "149 452219.277364\n",
      "12 471921.345644\n",
      "0 478185.704627\n",
      "200 478253.535885\n"
     ]
    },
    {
     "data": {
      "image/png": "[encoded data removed]",
      "text/plain": [
       "<matplotlib.figure.Figure at 0x7f2b72bad710>"
      ]
     },
     "metadata": {},
     "output_type": "display_data"
    }
   ],
   "source": [
    "import numpy as np\n",
    "import matplotlib.pyplot as plt\n",
    "import math\n",
    "import pandas as pd\n",
    "import os\n",
    "import scipy.stats\n",
    "from scipy.integrate import trapz\n",
    "\n",
    "%run 'preprocessing.ipynb'"
   ]
  },
  {
   "cell_type": "code",
   "execution_count": 84,
   "metadata": {
    "collapsed": false
   },
   "outputs": [
    {
     "data": {
      "text/plain": [
       "478880"
      ]
     },
     "execution_count": 84,
     "metadata": {},
     "output_type": "execute_result"
    }
   ],
   "source": [
    "df.tail()"
   ]
  },
  {
   "cell_type": "code",
   "execution_count": 86,
   "metadata": {
    "collapsed": false
   },
   "outputs": [
    {
     "data": {
      "text/plain": [
       "478880"
      ]
     },
     "execution_count": 86,
     "metadata": {},
     "output_type": "execute_result"
    }
   ],
   "source": [
    "avg_freq = (np.fft.fft(df['FP1']) + np.fft.fft(df['FP2']) + np.fft.fft(df['TP9']) + np.fft.fft(df['TP10']))/4"
   ]
  },
  {
   "cell_type": "code",
   "execution_count": 87,
   "metadata": {
    "collapsed": false
   },
   "outputs": [
    {
     "name": "stderr",
     "output_type": "stream",
     "text": [
      "/usr/local/lib/python2.7/dist-packages/ipykernel/__main__.py:1: ComplexWarning: Casting complex values to real discards the imaginary part\n",
      "  if __name__ == '__main__':\n"
     ]
    }
   ],
   "source": [
    "positive_data = np.array(avg_freq[:len(avg_freq)/2], dtype='int64')"
   ]
  },
  {
   "cell_type": "code",
   "execution_count": 89,
   "metadata": {
    "collapsed": false
   },
   "outputs": [
    {
     "data": {
      "text/plain": [
       "<matplotlib.text.Text at 0x7f2b73946b90>"
      ]
     },
     "execution_count": 89,
     "metadata": {},
     "output_type": "execute_result"
    },
    {
     "data": {
      "image/png": "[encoded data removed]",
      "text/plain": [
       "<matplotlib.figure.Figure at 0x7f2b73970b50>"
      ]
     },
     "metadata": {},
     "output_type": "display_data"
    }
   ],
   "source": [
    "freq = np.transpose(np.array(range(len(positive_data)))/(len(avg_freq)/s['srate']))\n",
    "\n",
    "plt.plot(freq, positive_data)\n",
    "plt.xlabel('Frequency(hz)')\n",
    "plt.ylabel('Amplitude')"
   ]
  },
  {
   "cell_type": "code",
   "execution_count": 83,
   "metadata": {
    "collapsed": false
   },
   "outputs": [
    {
     "data": {
      "text/plain": [
       "13185760.0"
      ]
     },
     "execution_count": 83,
     "metadata": {},
     "output_type": "execute_result"
    }
   ],
   "source": [
    "# determine the total amplitude in the beta frequency range - characteristic of high engagement\n",
    "beta_upper = int(math.ceil((len(freq))*6/s['srate']))\n",
    "beta_lower = int(math.floor((len(freq))*2.4/s['srate']))\n",
    "\n",
    "beta_amp = abs(trapz(positive_data[beta_lower:beta_upper]))\n",
    "beta_amp\n"
   ]
  },
  {
   "cell_type": "code",
   "execution_count": 80,
   "metadata": {
    "collapsed": false
   },
   "outputs": [
    {
     "data": {
      "text/plain": [
       "13546670.5"
      ]
     },
     "execution_count": 80,
     "metadata": {},
     "output_type": "execute_result"
    }
   ],
   "source": [
    "# determine the total amplitude in the alpha frequency range - characteristic of low engagement\n",
    "alpha_upper = int(math.ceil((len(freq))*1.77/s['srate']))\n",
    "alpha_lower = int(math.floor((len(freq))*0.9/s['srate']))\n",
    "\n",
    "alpha_amp = abs(trapz(positive_data[alpha_lower:alpha_upper]))\n",
    "alpha_amp"
   ]
  },
  {
   "cell_type": "code",
   "execution_count": 81,
   "metadata": {
    "collapsed": false
   },
   "outputs": [
    {
     "data": {
      "text/plain": [
       "4134279.5"
      ]
     },
     "execution_count": 81,
     "metadata": {},
     "output_type": "execute_result"
    }
   ],
   "source": [
    "# determine the total amplitude in the theta frequency range - characteristic of sleep/daydream\n",
    "theta_upper = int(math.ceil((len(freq))*1.35/s['srate']))\n",
    "theta_lower = int(math.floor((len(freq))*0.45/s['srate']))\n",
    "\n",
    "theta_amp = abs(trapz(positive_data[theta_lower:theta_upper]))\n",
    "theta_amp"
   ]
  },
  {
   "cell_type": "code",
   "execution_count": 82,
   "metadata": {
    "collapsed": false
   },
   "outputs": [
    {
     "data": {
      "text/plain": [
       "24702237.0"
      ]
     },
     "execution_count": 82,
     "metadata": {},
     "output_type": "execute_result"
    }
   ],
   "source": [
    "# determine the total amplitude in the delta frequency range - characteristic of deepest sleep\n",
    "delta_upper = int(math.ceil((len(freq))*0.6/s['srate']))\n",
    "delta_lower = int(math.floor((len(freq))*0.22/s['srate']))\n",
    "\n",
    "delta_amp = abs(trapz(positive_data[delta_lower:delta_upper]))\n",
    "delta_amp"
   ]
  },
  {
   "cell_type": "code",
   "execution_count": 95,
   "metadata": {
    "collapsed": false
   },
   "outputs": [],
   "source": [
    "def waveAmps(recorded_data, num_trials):\n",
    "    waves = []\n",
    "    for trial in num_trials:\n",
    "    \n",
    "        # determine the total amplitude in the beta frequency range - characteristic of high engagement\n",
    "        beta_upper = int(math.ceil((len(freq))*6/s['srate']))\n",
    "        beta_lower = int(math.floor((len(freq))*2.4/s['srate']))\n",
    "        beta_amp = abs(trapz(positive_data[trial][beta_lower:beta_upper]))\n",
    "        \n",
    "        # determine the total amplitude in the alpha frequency range - characteristic of low engagement\n",
    "        alpha_upper = int(math.ceil((len(freq))*1.77/s['srate']))\n",
    "        alpha_lower = int(math.floor((len(freq))*0.9/s['srate']))\n",
    "        alpha_amp = abs(trapz(positive_data[trial][alpha_lower:alpha_upper]))\n",
    "        \n",
    "        # determine the total amplitude in the theta frequency range - characteristic of sleep/daydream\n",
    "        theta_upper = int(math.ceil((len(freq))*1.35/s['srate']))\n",
    "        theta_lower = int(math.floor((len(freq))*0.45/s['srate']))\n",
    "        theta_amp = abs(trapz(positive_data[trial][theta_lower:theta_upper]))\n",
    "        \n",
    "        # determine the total amplitude in the delta frequency range - characteristic of deepest sleep\n",
    "        delta_upper = int(math.ceil((len(freq))*0.6/s['srate']))\n",
    "        delta_lower = int(math.floor((len(freq))*0.22/s['srate']))\n",
    "        delta_amp = abs(trapz(positive_data[trial][delta_lower:delta_upper]))\n",
    "                                            \n",
    "        waves = np.append(waves, [beta_amp, alpha_amp, theta_amp, delta_amp], axis=0)\n",
    "    return waves"
   ]
  },
  {
   "cell_type": "code",
   "execution_count": null,
   "metadata": {
    "collapsed": true
   },
   "outputs": [],
   "source": []
  }
 ],
 "metadata": {
  "kernelspec": {
   "display_name": "Python 2",
   "language": "python",
   "name": "python2"
  },
  "language_info": {
   "codemirror_mode": {
    "name": "ipython",
    "version": 2
   },
   "file_extension": ".py",
   "mimetype": "text/x-python",
   "name": "python",
   "nbconvert_exporter": "python",
   "pygments_lexer": "ipython2",
   "version": "2.7.6"
  }
 },
 "nbformat": 4,
 "nbformat_minor": 2
}
